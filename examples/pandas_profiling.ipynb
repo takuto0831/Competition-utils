{
 "cells": [
  {
   "cell_type": "code",
   "execution_count": 31,
   "metadata": {},
   "outputs": [],
   "source": [
    "import pandas as pd\n",
    "import pandas_profiling as pdp\n",
    "import os"
   ]
  },
  {
   "cell_type": "code",
   "execution_count": 32,
   "metadata": {},
   "outputs": [],
   "source": [
    "INPUTDIR = '../datasets/'\n",
    "OUTPUTDIR = '../output/pandas_profile/'\n",
    "os.makedirs(OUTPUTDIR, exist_ok=True)"
   ]
  },
  {
   "cell_type": "code",
   "execution_count": 33,
   "metadata": {},
   "outputs": [],
   "source": [
    "# art object\n",
    "train = pd.read_csv(os.path.join(INPUTDIR,'train.csv'))\n",
    "test = pd.read_csv(os.path.join(INPUTDIR,'test.csv'))\n",
    "\n",
    "# obeject id\n",
    "color = pd.read_csv(os.path.join(INPUTDIR,'color.csv'))\n",
    "material = pd.read_csv(os.path.join(INPUTDIR,'material.csv'))\n",
    "historical_person = pd.read_csv(os.path.join(INPUTDIR,'historical_person.csv'))\n",
    "object_collection = pd.read_csv(os.path.join(INPUTDIR,'object_collection.csv'))\n",
    "production_place = pd.read_csv(os.path.join(INPUTDIR,'production_place.csv'))\n",
    "technique = pd.read_csv(os.path.join(INPUTDIR,'technique.csv'))\n",
    "palette = pd.read_csv(os.path.join(INPUTDIR,'palette.csv'))\n",
    "\n",
    "# maker\n",
    "maker = pd.read_csv(os.path.join(INPUTDIR,'maker.csv'))\n",
    "principal_maker = pd.read_csv(os.path.join(INPUTDIR,'principal_maker.csv'))\n",
    "principal_maker_occupation = pd.read_csv(os.path.join(INPUTDIR,'principal_maker_occupation.csv'))"
   ]
  },
  {
   "cell_type": "code",
   "execution_count": 84,
   "metadata": {},
   "outputs": [],
   "source": [
    "def CreateReport(df, filename):\n",
    "    repo = pdp.ProfileReport(df)\n",
    "    repo.to_file(os.path.join(OUTPUTDIR, filename + '_report.html'))"
   ]
  },
  {
   "cell_type": "code",
   "execution_count": 88,
   "metadata": {},
   "outputs": [],
   "source": [
    "data_dict = dict(train=train, test=test, color=color, material=material, historical_person=historical_person,\n",
    "                obeject_collection=object_collection,production_place=production_place,technique=technique,\n",
    "                palette=palette, maker=maker, principal_maker=principal_maker,principal_maker_occupation=principal_maker_occupation)"
   ]
  },
  {
   "cell_type": "code",
   "execution_count": null,
   "metadata": {},
   "outputs": [
    {
     "data": {
      "application/vnd.jupyter.widget-view+json": {
       "model_id": "d01b4d9462864763b6d4e2c0c5e9712e",
       "version_major": 2,
       "version_minor": 0
      },
      "text/plain": [
       "HBox(children=(HTML(value='Summarize dataset'), FloatProgress(value=0.0, max=32.0), HTML(value='')))"
      ]
     },
     "metadata": {},
     "output_type": "display_data"
    },
    {
     "name": "stdout",
     "output_type": "stream",
     "text": [
      "\n"
     ]
    },
    {
     "data": {
      "application/vnd.jupyter.widget-view+json": {
       "model_id": "4fcd08c06ab540ae8d019bf7558fe2ac",
       "version_major": 2,
       "version_minor": 0
      },
      "text/plain": [
       "HBox(children=(HTML(value='Generate report structure'), FloatProgress(value=0.0, max=1.0), HTML(value='')))"
      ]
     },
     "metadata": {},
     "output_type": "display_data"
    },
    {
     "name": "stdout",
     "output_type": "stream",
     "text": [
      "\n"
     ]
    },
    {
     "data": {
      "application/vnd.jupyter.widget-view+json": {
       "model_id": "dfae6d38cee04e82a9e57aa189c37c97",
       "version_major": 2,
       "version_minor": 0
      },
      "text/plain": [
       "HBox(children=(HTML(value='Render HTML'), FloatProgress(value=0.0, max=1.0), HTML(value='')))"
      ]
     },
     "metadata": {},
     "output_type": "display_data"
    }
   ],
   "source": [
    "for filename, df in data_dict.items():\n",
    "    CreateReport(df, filename)"
   ]
  }
 ],
 "metadata": {
  "kernelspec": {
   "display_name": "py37",
   "language": "python",
   "name": "py37"
  },
  "language_info": {
   "codemirror_mode": {
    "name": "ipython",
    "version": 3
   },
   "file_extension": ".py",
   "mimetype": "text/x-python",
   "name": "python",
   "nbconvert_exporter": "python",
   "pygments_lexer": "ipython3",
   "version": "3.7.3"
  }
 },
 "nbformat": 4,
 "nbformat_minor": 4
}
